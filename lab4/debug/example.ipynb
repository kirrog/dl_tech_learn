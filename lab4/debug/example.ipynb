{
 "cells": [
  {
   "cell_type": "code",
   "execution_count": 1,
   "metadata": {},
   "outputs": [],
   "source": [
    "from time import time\n",
    "\n",
    "# !!! Указан абсолютный путь !!!\n",
    "import sys\n",
    "sys.path.insert(0,'/home/dzigen/Desktop/ITMO/sem1/DLtech/dl_tech_learn/lab4')\n",
    "\n",
    "from t_extraction_utils import TLABEL_LIST, LABEL2ID, ID2LABEL, extract_tagged_features\n",
    "from general_utils import make_extract, init_model, preprocess_text, encode_text"
   ]
  },
  {
   "cell_type": "code",
   "execution_count": 2,
   "metadata": {},
   "outputs": [
    {
     "name": "stdout",
     "output_type": "stream",
     "text": [
      "Elapsed time: 3.28385 сек\n"
     ]
    }
   ],
   "source": [
    "start_t = time()\n",
    "TOKENIZER, MODEL = init_model('tagged', selected_device='cuda')\n",
    "end_t = time()\n",
    "print(f\"Elapsed time: {round(end_t - start_t, 5)} сек\")"
   ]
  },
  {
   "cell_type": "code",
   "execution_count": 16,
   "metadata": {},
   "outputs": [],
   "source": [
    "INPUT_FILE = './example_tagged_input.csv'"
   ]
  },
  {
   "cell_type": "code",
   "execution_count": 17,
   "metadata": {},
   "outputs": [
    {
     "name": "stderr",
     "output_type": "stream",
     "text": [
      "100%|██████████| 50/50 [00:16<00:00,  3.03it/s]\n"
     ]
    }
   ],
   "source": [
    "output_df = make_extract('tagged', INPUT_FILE, TOKENIZER, MODEL)"
   ]
  },
  {
   "cell_type": "code",
   "execution_count": 19,
   "metadata": {},
   "outputs": [
    {
     "data": {
      "text/html": [
       "<div>\n",
       "<style scoped>\n",
       "    .dataframe tbody tr th:only-of-type {\n",
       "        vertical-align: middle;\n",
       "    }\n",
       "\n",
       "    .dataframe tbody tr th {\n",
       "        vertical-align: top;\n",
       "    }\n",
       "\n",
       "    .dataframe thead th {\n",
       "        text-align: right;\n",
       "    }\n",
       "</style>\n",
       "<table border=\"1\" class=\"dataframe\">\n",
       "  <thead>\n",
       "    <tr style=\"text-align: right;\">\n",
       "      <th></th>\n",
       "      <th>КТР</th>\n",
       "      <th>ЧСС</th>\n",
       "      <th>ТВП</th>\n",
       "      <th>ТРИКУСП РЕГУРГ</th>\n",
       "      <th>ХГЧ</th>\n",
       "      <th>PAPP-A</th>\n",
       "      <th>АФП</th>\n",
       "      <th>Ингибин А</th>\n",
       "      <th>св эстрадиол</th>\n",
       "      <th>Возраст</th>\n",
       "      <th>Вес</th>\n",
       "      <th>Рост</th>\n",
       "      <th>ИМТ</th>\n",
       "      <th>ФК</th>\n",
       "      <th>input_textid</th>\n",
       "      <th>predicted_labels</th>\n",
       "    </tr>\n",
       "  </thead>\n",
       "  <tbody>\n",
       "    <tr>\n",
       "      <th>0</th>\n",
       "      <td>[]</td>\n",
       "      <td>[ 84 в минуту]</td>\n",
       "      <td>[]</td>\n",
       "      <td>[]</td>\n",
       "      <td>[]</td>\n",
       "      <td>[]</td>\n",
       "      <td>[]</td>\n",
       "      <td>[]</td>\n",
       "      <td>[]</td>\n",
       "      <td>[]</td>\n",
       "      <td>[ 61.6 кг]</td>\n",
       "      <td>[ 175]</td>\n",
       "      <td>[]</td>\n",
       "      <td>[]</td>\n",
       "      <td>0</td>\n",
       "      <td>[O, O, O, O, O, O, O, O, O, O, O, O, O, O, O, ...</td>\n",
       "    </tr>\n",
       "    <tr>\n",
       "      <th>1</th>\n",
       "      <td>[]</td>\n",
       "      <td>[ 74 в мин]</td>\n",
       "      <td>[]</td>\n",
       "      <td>[]</td>\n",
       "      <td>[]</td>\n",
       "      <td>[]</td>\n",
       "      <td>[]</td>\n",
       "      <td>[]</td>\n",
       "      <td>[]</td>\n",
       "      <td>[]</td>\n",
       "      <td>[]</td>\n",
       "      <td>[]</td>\n",
       "      <td>[]</td>\n",
       "      <td>[]</td>\n",
       "      <td>1</td>\n",
       "      <td>[O, O, O, O, O, O, O, O, O, O, O, O, O, O, O, ...</td>\n",
       "    </tr>\n",
       "    <tr>\n",
       "      <th>2</th>\n",
       "      <td>[]</td>\n",
       "      <td>[]</td>\n",
       "      <td>[]</td>\n",
       "      <td>[]</td>\n",
       "      <td>[]</td>\n",
       "      <td>[]</td>\n",
       "      <td>[]</td>\n",
       "      <td>[]</td>\n",
       "      <td>[ 7867.49 нг/мл]</td>\n",
       "      <td>[]</td>\n",
       "      <td>[]</td>\n",
       "      <td>[]</td>\n",
       "      <td>[ 23.64 кг/м2]</td>\n",
       "      <td>[]</td>\n",
       "      <td>2</td>\n",
       "      <td>[O, O, O, O, O, O, O, O, O, O, O, O, O, O, O, ...</td>\n",
       "    </tr>\n",
       "    <tr>\n",
       "      <th>3</th>\n",
       "      <td>[]</td>\n",
       "      <td>[]</td>\n",
       "      <td>[]</td>\n",
       "      <td>[]</td>\n",
       "      <td>[10760.73]</td>\n",
       "      <td>[ 26.89 МЕ/л]</td>\n",
       "      <td>[]</td>\n",
       "      <td>[]</td>\n",
       "      <td>[]</td>\n",
       "      <td>[]</td>\n",
       "      <td>[]</td>\n",
       "      <td>[]</td>\n",
       "      <td>[]</td>\n",
       "      <td>[]</td>\n",
       "      <td>3</td>\n",
       "      <td>[O, O, O, O, O, O, O, O, O, O, O, O, O, O, O, ...</td>\n",
       "    </tr>\n",
       "    <tr>\n",
       "      <th>4</th>\n",
       "      <td>[]</td>\n",
       "      <td>[]</td>\n",
       "      <td>[]</td>\n",
       "      <td>[ 2, 53 см/с]</td>\n",
       "      <td>[ 742521.65 мМЕ/мл]</td>\n",
       "      <td>[]</td>\n",
       "      <td>[]</td>\n",
       "      <td>[ 272.43 пг/мл]</td>\n",
       "      <td>[.,  28221.88 нг/мл]</td>\n",
       "      <td>[ 16.71 лет,  57.13 лет]</td>\n",
       "      <td>[]</td>\n",
       "      <td>[ 227.23 см]</td>\n",
       "      <td>[]</td>\n",
       "      <td>[ 17.81 нмоль/л,  18.97 нмоль/л]</td>\n",
       "      <td>4</td>\n",
       "      <td>[O, O, O, O, O, O, O, O, O, O, O, O, O, O, O, ...</td>\n",
       "    </tr>\n",
       "  </tbody>\n",
       "</table>\n",
       "</div>"
      ],
      "text/plain": [
       "  КТР             ЧСС ТВП ТРИКУСП РЕГУРГ                  ХГЧ         PAPP-A  \\\n",
       "0  []  [ 84 в минуту]  []             []                   []             []   \n",
       "1  []     [ 74 в мин]  []             []                   []             []   \n",
       "2  []              []  []             []                   []             []   \n",
       "3  []              []  []             []           [10760.73]  [ 26.89 МЕ/л]   \n",
       "4  []              []  []  [ 2, 53 см/с]  [ 742521.65 мМЕ/мл]             []   \n",
       "\n",
       "  АФП        Ингибин А          св эстрадиол                   Возраст  \\\n",
       "0  []               []                    []                        []   \n",
       "1  []               []                    []                        []   \n",
       "2  []               []      [ 7867.49 нг/мл]                        []   \n",
       "3  []               []                    []                        []   \n",
       "4  []  [ 272.43 пг/мл]  [.,  28221.88 нг/мл]  [ 16.71 лет,  57.13 лет]   \n",
       "\n",
       "          Вес          Рост             ИМТ                                ФК  \\\n",
       "0  [ 61.6 кг]        [ 175]              []                                []   \n",
       "1          []            []              []                                []   \n",
       "2          []            []  [ 23.64 кг/м2]                                []   \n",
       "3          []            []              []                                []   \n",
       "4          []  [ 227.23 см]              []  [ 17.81 нмоль/л,  18.97 нмоль/л]   \n",
       "\n",
       "   input_textid                                   predicted_labels  \n",
       "0             0  [O, O, O, O, O, O, O, O, O, O, O, O, O, O, O, ...  \n",
       "1             1  [O, O, O, O, O, O, O, O, O, O, O, O, O, O, O, ...  \n",
       "2             2  [O, O, O, O, O, O, O, O, O, O, O, O, O, O, O, ...  \n",
       "3             3  [O, O, O, O, O, O, O, O, O, O, O, O, O, O, O, ...  \n",
       "4             4  [O, O, O, O, O, O, O, O, O, O, O, O, O, O, O, ...  "
      ]
     },
     "execution_count": 19,
     "metadata": {},
     "output_type": "execute_result"
    }
   ],
   "source": [
    "output_df.head()"
   ]
  },
  {
   "cell_type": "code",
   "execution_count": null,
   "metadata": {},
   "outputs": [],
   "source": []
  }
 ],
 "metadata": {
  "kernelspec": {
   "display_name": "base",
   "language": "python",
   "name": "python3"
  },
  "language_info": {
   "codemirror_mode": {
    "name": "ipython",
    "version": 3
   },
   "file_extension": ".py",
   "mimetype": "text/x-python",
   "name": "python",
   "nbconvert_exporter": "python",
   "pygments_lexer": "ipython3",
   "version": "3.11.4"
  },
  "orig_nbformat": 4
 },
 "nbformat": 4,
 "nbformat_minor": 2
}
