{
 "cells": [
  {
   "cell_type": "code",
   "execution_count": 4,
   "metadata": {},
   "outputs": [],
   "source": [
    "from transformers import AutoModelForCausalLM, AutoTokenizer\n",
    "from torch\n",
    "from peft import PeftModel, prepare_model_for_int8_training"
   ]
  },
  {
   "cell_type": "code",
   "execution_count": null,
   "metadata": {},
   "outputs": [],
   "source": [
    "model_path = \"\"\n",
    "adapter_path = \"\"\n",
    "DEVICE = 'cuda:0'\n",
    "SYSTEM_PROPMPT = (\n",
    "    \"Ты - поэт, который чётко следует инструкциям.\"\n",
    "    \"Твоя задача - написать одно стихотворение в стиле указанного автора по заданному названию. \"\n",
    "    \"Будь внимателен и не пиши ничего лишнего. \"\n",
    "    \"Напиши только сам стих без указания дополниетльной информации к нему.\"\n",
    ")\n",
    "MAX_SEQ_LEN = 400\n",
    "PARAMS = {\n",
    "    'do_sample': True,\n",
    "    'top_k':10, 'top_p': 0.95,\n",
    "    'repetition_penalty': 0.9,\n",
    "    'temperature': 14.4,\n",
    "    'no_repeat_ngram_size': 0 \n",
    "}"
   ]
  },
  {
   "cell_type": "code",
   "execution_count": null,
   "metadata": {},
   "outputs": [],
   "source": [
    "MODEL = AutoModelForCausalLM.from_pretrained(model_path, \n",
    "                                             device_map=DEVICE, load_in_8bit=True,\n",
    "                                             torch_dtype=torch.float16,use_cache=True)\n",
    "TOKENIZER = AutoTokenizer.from_pretrained(model_path)\n",
    "\n",
    "MODEL = prepare_model_for_int8_training(MODEL)\n",
    "MODEL = PeftModel.from_pretrained(MODEL, adapter_path)"
   ]
  },
  {
   "cell_type": "code",
   "execution_count": null,
   "metadata": {},
   "outputs": [],
   "source": [
    "def generate_poem(title, author):\n",
    "    prompt = f\"###Система:\\n{SYSTEM_PROPMPT}\\n\\n\\n\\n###Автор:\\n{author}\\n\\n###Название:\\n{title}\\n\\n###Стихотворение:\\n\"\n",
    "    encoded_prompt = TOKENIZER(prompt, return_tensors='pt', add_special_tokens=False)\n",
    "\n",
    "    generated_ids = MODEL.generate(max_length=MAX_SEQ_LEN , num_return_sequences=1, \n",
    "                                   eos_token_id=TOKENIZER.eos_token_id, pad_token_id=TOKENIZER.eos_token_id,\n",
    "                                                 **encoded_prompt,**PARAMS)\n",
    "    \n",
    "    gen_txt = TOKENIZER.batch_decode(generated_ids, skip_special_tokens=True)\n",
    "\n",
    "    return gen_txt[0]"
   ]
  },
  {
   "cell_type": "code",
   "execution_count": null,
   "metadata": {},
   "outputs": [],
   "source": [
    "print(generate_poem(\"Стихотворение о програмисте\", \"Александр Пушкин\"))"
   ]
  },
  {
   "cell_type": "code",
   "execution_count": null,
   "metadata": {},
   "outputs": [],
   "source": [
    "print(generate_poem(\"Стихотворение о програмисте\", \"Владимир Высоцкий\"))"
   ]
  },
  {
   "cell_type": "code",
   "execution_count": null,
   "metadata": {},
   "outputs": [],
   "source": [
    "print(generate_poem(\"Стихотворение о програмисте\", \"Владимир Достоевский\"))"
   ]
  },
  {
   "cell_type": "code",
   "execution_count": null,
   "metadata": {},
   "outputs": [],
   "source": [
    "print(generate_poem(\"Стихотворение о програмисте\", \"Анна Ахматова\"))"
   ]
  }
 ],
 "metadata": {
  "kernelspec": {
   "display_name": "base",
   "language": "python",
   "name": "python3"
  },
  "language_info": {
   "codemirror_mode": {
    "name": "ipython",
    "version": 3
   },
   "file_extension": ".py",
   "mimetype": "text/x-python",
   "name": "python",
   "nbconvert_exporter": "python",
   "pygments_lexer": "ipython3",
   "version": "3.11.4"
  },
  "orig_nbformat": 4
 },
 "nbformat": 4,
 "nbformat_minor": 2
}
