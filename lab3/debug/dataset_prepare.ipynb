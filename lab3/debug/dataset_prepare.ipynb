{
 "cells": [
  {
   "cell_type": "code",
   "execution_count": 1,
   "metadata": {},
   "outputs": [
    {
     "name": "stderr",
     "output_type": "stream",
     "text": [
      "None of PyTorch, TensorFlow >= 2.0, or Flax have been found. Models won't be available and only tokenizers, configuration and file/data utilities can be used.\n"
     ]
    }
   ],
   "source": [
    "#import xmltodict, json\n",
    "import matplotlib.pyplot as plt\n",
    "from tqdm import tqdm\n",
    "from transformers import AutoTokenizer\n",
    "import pandas as pd\n",
    "from sklearn.model_selection import train_test_split"
   ]
  },
  {
   "cell_type": "markdown",
   "metadata": {},
   "source": [
    "## Convert dataset"
   ]
  },
  {
   "cell_type": "code",
   "execution_count": 4,
   "metadata": {},
   "outputs": [],
   "source": [
    "o = xmltodict.parse(open(\"all.xml\",'r',encoding='utf-8').read())\n",
    "a  = json.dumps(o, indent=2,ensure_ascii=False) # '{\"e\": {\"a\": [\"text\", \"text\"]}}'"
   ]
  },
  {
   "cell_type": "code",
   "execution_count": 6,
   "metadata": {},
   "outputs": [],
   "source": [
    "with open(\"all.json\", 'w', encoding='utf-8') as fd:\n",
    "    fd.write(a)"
   ]
  },
  {
   "cell_type": "markdown",
   "metadata": {},
   "source": [
    "## Filter dataset"
   ]
  },
  {
   "cell_type": "code",
   "execution_count": 2,
   "metadata": {},
   "outputs": [],
   "source": [
    "import json"
   ]
  },
  {
   "cell_type": "code",
   "execution_count": 3,
   "metadata": {},
   "outputs": [],
   "source": [
    "with open(\"../data/all.json\", 'r', encoding='utf-8') as fd:\n",
    "    data = json.loads(fd.read())"
   ]
  },
  {
   "cell_type": "code",
   "execution_count": 4,
   "metadata": {},
   "outputs": [],
   "source": [
    "BASE_MODEL = \"ai-forever/ruGPT-3.5-13B\""
   ]
  },
  {
   "cell_type": "code",
   "execution_count": 5,
   "metadata": {},
   "outputs": [],
   "source": [
    "tokenizer = AutoTokenizer.from_pretrained(BASE_MODEL)"
   ]
  },
  {
   "cell_type": "code",
   "execution_count": 6,
   "metadata": {},
   "outputs": [
    {
     "name": "stderr",
     "output_type": "stream",
     "text": [
      "43it [00:00, 81.50it/s]Token indices sequence length is longer than the specified maximum sequence length for this model (2390 > 2048). Running this sequence through the model will result in indexing errors\n",
      "16694it [00:47, 348.96it/s]"
     ]
    },
    {
     "name": "stdout",
     "output_type": "stream",
     "text": [
      "505 14846\n"
     ]
    },
    {
     "name": "stderr",
     "output_type": "stream",
     "text": [
      "\n"
     ]
    }
   ],
   "source": [
    "text_lens, title_lens, author_lens = [], [], []\n",
    "selected_item_ids = []\n",
    "text_char_lens = []\n",
    "\n",
    "no_title_ids = []\n",
    "\n",
    "for i, item in tqdm(enumerate(data['items']['item'])):\n",
    "    encoded_t = tokenizer.encode(item['text'])\n",
    "    if len(encoded_t) >= 500:\n",
    "        continue\n",
    "\n",
    "    if item['name'] is not None and item['author'] is not None:\n",
    "        selected_item_ids.append(i)\n",
    "\n",
    "        author_lens.append(len(tokenizer.encode(item['author'])))\n",
    "        title_lens.append(len(tokenizer.encode(item['name'])))\n",
    "        text_lens.append(len(encoded_t))\n",
    "        \n",
    "        text_char_lens.append(len(item['text']))\n",
    "    else:\n",
    "        no_title_ids.append(i)\n",
    "\n",
    "print(len(no_title_ids), len(text_lens))"
   ]
  },
  {
   "cell_type": "code",
   "execution_count": 32,
   "metadata": {},
   "outputs": [
    {
     "data": {
      "image/png": "[encoded data removed]",
      "text/plain": [
       "<Figure size 432x288 with 1 Axes>"
      ]
     },
     "metadata": {
      "needs_background": "light"
     },
     "output_type": "display_data"
    }
   ],
   "source": [
    "plt.boxplot(author_lens)\n",
    "plt.show()"
   ]
  },
  {
   "cell_type": "code",
   "execution_count": 33,
   "metadata": {},
   "outputs": [
    {
     "data": {
      "image/png": "[encoded data removed]",
      "text/plain": [
       "<Figure size 432x288 with 1 Axes>"
      ]
     },
     "metadata": {
      "needs_background": "light"
     },
     "output_type": "display_data"
    }
   ],
   "source": [
    "plt.boxplot(title_lens)\n",
    "plt.show()"
   ]
  },
  {
   "cell_type": "code",
   "execution_count": 34,
   "metadata": {},
   "outputs": [
    {
     "data": {
      "image/png": "[encoded data removed]",
      "text/plain": [
       "<Figure size 432x288 with 1 Axes>"
      ]
     },
     "metadata": {
      "needs_background": "light"
     },
     "output_type": "display_data"
    }
   ],
   "source": [
    "plt.boxplot(text_char_lens)\n",
    "plt.show()"
   ]
  },
  {
   "cell_type": "code",
   "execution_count": 28,
   "metadata": {},
   "outputs": [
    {
     "data": {
      "image/png": "[encoded data removed]",
      "text/plain": [
       "<Figure size 360x360 with 1 Axes>"
      ]
     },
     "metadata": {
      "needs_background": "light"
     },
     "output_type": "display_data"
    }
   ],
   "source": [
    "f, axs = plt.subplots(1, 1, figsize=(5, 5))\n",
    "\n",
    "plt.boxplot(text_lens)\n",
    "plt.yticks(list(range(0,510,50)))\n",
    "plt.ylabel(\"Длина текста (в токенах)\")\n",
    "axs.set_xticklabels([\"Cтихотворения\"])\n",
    "plt.grid()\n",
    "plt.show()"
   ]
  },
  {
   "cell_type": "code",
   "execution_count": 31,
   "metadata": {},
   "outputs": [],
   "source": [
    "import numpy as np"
   ]
  },
  {
   "cell_type": "code",
   "execution_count": 32,
   "metadata": {},
   "outputs": [
    {
     "name": "stdout",
     "output_type": "stream",
     "text": [
      "13 499 190.26586285868248\n"
     ]
    }
   ],
   "source": [
    "print(min(text_lens),max(text_lens), np.mean(text_lens))"
   ]
  },
  {
   "cell_type": "code",
   "execution_count": 33,
   "metadata": {},
   "outputs": [],
   "source": [
    "df = pd.DataFrame([[data['items']['item'][i]['text'],data['items']['item'][i]['name'],data['items']['item'][i]['author']] for i in selected_item_ids], columns=['text','title', 'author'])"
   ]
  },
  {
   "cell_type": "code",
   "execution_count": 35,
   "metadata": {},
   "outputs": [],
   "source": [
    "from collections import Counter"
   ]
  },
  {
   "cell_type": "code",
   "execution_count": 37,
   "metadata": {},
   "outputs": [],
   "source": [
    "xy = sorted(dict(Counter(df['author'].to_list())).items(), reverse=True, key=lambda v: v[1])"
   ]
  },
  {
   "cell_type": "code",
   "execution_count": 61,
   "metadata": {},
   "outputs": [
    {
     "data": {
      "text/plain": [
       "[('Евгений Гребенка', 2),\n",
       " ('Владислав Крапивин', 2),\n",
       " ('Алексей Ржевский', 2),\n",
       " ('Александр Грибоедов', 1),\n",
       " ('Апполон Григорьев', 1)]"
      ]
     },
     "execution_count": 61,
     "metadata": {},
     "output_type": "execute_result"
    }
   ],
   "source": [
    "xy[-5:]"
   ]
  },
  {
   "cell_type": "code",
   "execution_count": 60,
   "metadata": {},
   "outputs": [
    {
     "name": "stderr",
     "output_type": "stream",
     "text": [
      "<ipython-input-60-fc32cb880180>:5: UserWarning: FixedFormatter should only be used together with FixedLocator\n",
      "  axs.set_xticklabels([\"Авторы\"])\n"
     ]
    },
    {
     "data": {
      "image/png": "[encoded data removed]",
      "text/plain": [
       "<Figure size 360x360 with 1 Axes>"
      ]
     },
     "metadata": {
      "needs_background": "light"
     },
     "output_type": "display_data"
    }
   ],
   "source": [
    "f, axs = plt.subplots(1, 1, figsize=(5, 5))\n",
    "plt.ylabel(\"Количество произведений\\nодного автора\")\n",
    "plt.yticks(list(range(0, 460, 50)))\n",
    "y = list(map(lambda v: v[1], xy))\n",
    "axs.set_xticklabels([\"Авторы\"])\n",
    "plt.boxplot(y)\n",
    "plt.grid()\n",
    "plt.show()"
   ]
  },
  {
   "cell_type": "code",
   "execution_count": 55,
   "metadata": {},
   "outputs": [
    {
     "data": {
      "image/png": "[encoded data removed]",
      "text/plain": [
       "<Figure size 432x360 with 1 Axes>"
      ]
     },
     "metadata": {
      "needs_background": "light"
     },
     "output_type": "display_data"
    }
   ],
   "source": [
    "plt.figure(figsize=(6,5))\n",
    "y = list(map(lambda v: v[1], xy))\n",
    "x = list(range(len(y)))\n",
    "plt.yticks(list(range(0, 450, 50)))\n",
    "plt.xticks(list(range(0, 210, 20)))\n",
    "plt.xlabel(\"Номер автора\")\n",
    "plt.ylabel(\"Количество произведений\\nодного автора\")\n",
    "plt.grid()\n",
    "plt.plot(x,y, label='o')\n",
    "plt.show()"
   ]
  },
  {
   "cell_type": "code",
   "execution_count": 50,
   "metadata": {},
   "outputs": [
    {
     "data": {
      "text/plain": [
       "193"
      ]
     },
     "execution_count": 50,
     "metadata": {},
     "output_type": "execute_result"
    }
   ],
   "source": [
    "len(x)"
   ]
  },
  {
   "cell_type": "code",
   "execution_count": 49,
   "metadata": {},
   "outputs": [
    {
     "name": "stdout",
     "output_type": "stream",
     "text": [
      "1 429 76.92227979274611\n"
     ]
    }
   ],
   "source": [
    "print(min(y),max(y), np.mean(y))"
   ]
  },
  {
   "cell_type": "code",
   "execution_count": 37,
   "metadata": {},
   "outputs": [],
   "source": [
    "df.to_csv(\"rupoems_dataset.csv\", index=False, sep=';')"
   ]
  },
  {
   "cell_type": "code",
   "execution_count": 38,
   "metadata": {},
   "outputs": [
    {
     "data": {
      "text/html": [
       "<div>\n",
       "<style scoped>\n",
       "    .dataframe tbody tr th:only-of-type {\n",
       "        vertical-align: middle;\n",
       "    }\n",
       "\n",
       "    .dataframe tbody tr th {\n",
       "        vertical-align: top;\n",
       "    }\n",
       "\n",
       "    .dataframe thead th {\n",
       "        text-align: right;\n",
       "    }\n",
       "</style>\n",
       "<table border=\"1\" class=\"dataframe\">\n",
       "  <thead>\n",
       "    <tr style=\"text-align: right;\">\n",
       "      <th></th>\n",
       "      <th>text</th>\n",
       "      <th>title</th>\n",
       "      <th>author</th>\n",
       "    </tr>\n",
       "  </thead>\n",
       "  <tbody>\n",
       "    <tr>\n",
       "      <th>0</th>\n",
       "      <td>Забывши волнения жизни мятежной,\\nОдин жил в п...</td>\n",
       "      <td>Забывши волнения жизни мятежной...</td>\n",
       "      <td>Михаил Лермонтов</td>\n",
       "    </tr>\n",
       "    <tr>\n",
       "      <th>1</th>\n",
       "      <td>Нивы сжаты, рощи голы,\\nОт воды туман и сырост...</td>\n",
       "      <td>Нивы сжаты, рощи голы...</td>\n",
       "      <td>Сергей Есенин</td>\n",
       "    </tr>\n",
       "    <tr>\n",
       "      <th>2</th>\n",
       "      <td>Лючинь печальная читала вечером ручьисто-вкрад...</td>\n",
       "      <td>ЧАРЫ ЛЮЧИНЬ</td>\n",
       "      <td>Игорь Северянин</td>\n",
       "    </tr>\n",
       "    <tr>\n",
       "      <th>3</th>\n",
       "      <td>Глыбу кварца разбили молотом,\\nИ, веселым огне...</td>\n",
       "      <td>Золото</td>\n",
       "      <td>Анатолий Жигулин</td>\n",
       "    </tr>\n",
       "    <tr>\n",
       "      <th>4</th>\n",
       "      <td>Хлынул дождь, когда девушки, встав в хоровод,\\...</td>\n",
       "      <td>Хоровод в Сульдуси</td>\n",
       "      <td>Николай Тихонов</td>\n",
       "    </tr>\n",
       "    <tr>\n",
       "      <th>...</th>\n",
       "      <td>...</td>\n",
       "      <td>...</td>\n",
       "      <td>...</td>\n",
       "    </tr>\n",
       "    <tr>\n",
       "      <th>14841</th>\n",
       "      <td>Седо\\nКурчавятся облака\\nНад чернотою полей.\\n...</td>\n",
       "      <td>Ноябрь</td>\n",
       "      <td>Леонид Мартынов</td>\n",
       "    </tr>\n",
       "    <tr>\n",
       "      <th>14842</th>\n",
       "      <td>Белокурая Параша,\\nСребророзова лицом,\\nКоей м...</td>\n",
       "      <td>Параше</td>\n",
       "      <td>Гаврила Державин</td>\n",
       "    </tr>\n",
       "    <tr>\n",
       "      <th>14843</th>\n",
       "      <td>Сладкозвучная богиня,\\nРифма золотая,\\nСлух ча...</td>\n",
       "      <td>Рифма</td>\n",
       "      <td>Федор Сологуб</td>\n",
       "    </tr>\n",
       "    <tr>\n",
       "      <th>14844</th>\n",
       "      <td>Я так любил тебя — до грубых шуток\\nИ до таких...</td>\n",
       "      <td>Я так любил тебя — до грубых шуток...</td>\n",
       "      <td>Илья Эренбург</td>\n",
       "    </tr>\n",
       "    <tr>\n",
       "      <th>14845</th>\n",
       "      <td>С. А. Швейцер\\nс нежностью и уважением\\nГ. Шпа...</td>\n",
       "      <td>Стихи к 8 марта</td>\n",
       "      <td>Геннадий Шпаликов</td>\n",
       "    </tr>\n",
       "  </tbody>\n",
       "</table>\n",
       "<p>14846 rows × 3 columns</p>\n",
       "</div>"
      ],
      "text/plain": [
       "                                                    text  \\\n",
       "0      Забывши волнения жизни мятежной,\\nОдин жил в п...   \n",
       "1      Нивы сжаты, рощи голы,\\nОт воды туман и сырост...   \n",
       "2      Лючинь печальная читала вечером ручьисто-вкрад...   \n",
       "3      Глыбу кварца разбили молотом,\\nИ, веселым огне...   \n",
       "4      Хлынул дождь, когда девушки, встав в хоровод,\\...   \n",
       "...                                                  ...   \n",
       "14841  Седо\\nКурчавятся облака\\nНад чернотою полей.\\n...   \n",
       "14842  Белокурая Параша,\\nСребророзова лицом,\\nКоей м...   \n",
       "14843  Сладкозвучная богиня,\\nРифма золотая,\\nСлух ча...   \n",
       "14844  Я так любил тебя — до грубых шуток\\nИ до таких...   \n",
       "14845  С. А. Швейцер\\nс нежностью и уважением\\nГ. Шпа...   \n",
       "\n",
       "                                       title             author  \n",
       "0         Забывши волнения жизни мятежной...   Михаил Лермонтов  \n",
       "1                   Нивы сжаты, рощи голы...      Сергей Есенин  \n",
       "2                                ЧАРЫ ЛЮЧИНЬ    Игорь Северянин  \n",
       "3                                     Золото   Анатолий Жигулин  \n",
       "4                         Хоровод в Сульдуси    Николай Тихонов  \n",
       "...                                      ...                ...  \n",
       "14841                                 Ноябрь    Леонид Мартынов  \n",
       "14842                                 Параше   Гаврила Державин  \n",
       "14843                                  Рифма      Федор Сологуб  \n",
       "14844  Я так любил тебя — до грубых шуток...      Илья Эренбург  \n",
       "14845                        Стихи к 8 марта  Геннадий Шпаликов  \n",
       "\n",
       "[14846 rows x 3 columns]"
      ]
     },
     "execution_count": 38,
     "metadata": {},
     "output_type": "execute_result"
    }
   ],
   "source": [
    "df"
   ]
  },
  {
   "cell_type": "markdown",
   "metadata": {},
   "source": [
    "# Train/test split"
   ]
  },
  {
   "cell_type": "code",
   "execution_count": 39,
   "metadata": {},
   "outputs": [],
   "source": [
    "from sklearn.model_selection import train_test_split\n",
    "import pandas as pd"
   ]
  },
  {
   "cell_type": "code",
   "execution_count": 40,
   "metadata": {},
   "outputs": [],
   "source": [
    "BASE_DATASET = \"../data/rupoems_dataset.csv\""
   ]
  },
  {
   "cell_type": "code",
   "execution_count": 41,
   "metadata": {},
   "outputs": [
    {
     "name": "stdout",
     "output_type": "stream",
     "text": [
      "(14846, 3)\n"
     ]
    }
   ],
   "source": [
    "df = pd.read_csv(BASE_DATASET, sep=';')\n",
    "print(df.shape)"
   ]
  },
  {
   "cell_type": "code",
   "execution_count": 42,
   "metadata": {},
   "outputs": [
    {
     "name": "stdout",
     "output_type": "stream",
     "text": [
      "14778\n"
     ]
    }
   ],
   "source": [
    "filtered_df =df.drop_duplicates(subset=['text']).reset_index(drop=True)\n",
    "print(filtered_df.shape[0])"
   ]
  },
  {
   "cell_type": "code",
   "execution_count": 43,
   "metadata": {},
   "outputs": [],
   "source": [
    "X_train, X_test = train_test_split(filtered_df, test_size=0.15)"
   ]
  },
  {
   "cell_type": "code",
   "execution_count": 44,
   "metadata": {},
   "outputs": [],
   "source": [
    "X_train.to_csv(\"train_part.csv\", sep=';', index=False)"
   ]
  },
  {
   "cell_type": "code",
   "execution_count": 45,
   "metadata": {},
   "outputs": [],
   "source": [
    "X_test.to_csv(\"test_part.csv\", sep=';', index=False)"
   ]
  }
 ],
 "metadata": {
  "kernelspec": {
   "display_name": "base",
   "language": "python",
   "name": "python3"
  },
  "language_info": {
   "codemirror_mode": {
    "name": "ipython",
    "version": 3
   },
   "file_extension": ".py",
   "mimetype": "text/x-python",
   "name": "python",
   "nbconvert_exporter": "python",
   "pygments_lexer": "ipython3",
   "version": "3.9.12"
  },
  "orig_nbformat": 4
 },
 "nbformat": 4,
 "nbformat_minor": 2
}
