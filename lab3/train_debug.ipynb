{
 "cells": [
  {
   "cell_type": "code",
   "execution_count": 2,
   "metadata": {},
   "outputs": [],
   "source": [
    "from peft import IA3Model, IA3Config, get_peft_model\n",
    "from transformers import AutoTokenizer, AutoModelForCausalLM\n",
    "#from auto_gptq import AutoGPTQForCausalLM\n",
    "import gc"
   ]
  },
  {
   "cell_type": "code",
   "execution_count": 3,
   "metadata": {},
   "outputs": [
    {
     "data": {
      "text/plain": [
       "74"
      ]
     },
     "execution_count": 3,
     "metadata": {},
     "output_type": "execute_result"
    }
   ],
   "source": [
    "gc.collect()"
   ]
  },
  {
   "cell_type": "code",
   "execution_count": 4,
   "metadata": {},
   "outputs": [],
   "source": [
    "BASE_MODEl = '/home/dzigen/Desktop/ITMO/sem1/DLtech/dl_tech_learn/lab3/pretrained_models/ruGPT3_5_13B_8bit'\n",
    "DEVICE = 'cpu'\n",
    "BATCH_SIZE = 1\n",
    "EPOCHS = 12\n",
    "LR = 3e-4\n",
    "\n",
    "print(\"BATCH_SIZE: \", BATCH_SIZE)\n",
    "print(\"LR: \", LR)\n",
    "print(\"EPOCHS: \", EPOCHS)\n",
    "print(\"DEVICE: \", DEVICE)"
   ]
  },
  {
   "cell_type": "code",
   "execution_count": 5,
   "metadata": {},
   "outputs": [],
   "source": [
    "CONFIG = IA3Config(\n",
    "        peft_type=\"IA3\",\n",
    "        task_type=\"CAUSAL_LM\",\n",
    "        target_modules=[\"c_attn\", \"c_proj\",\"c_fc\"],\n",
    "        feedforward_modules=['c_fc'])\n",
    "\n",
    "MODEL = AutoModelForCausalLM.from_pretrained(BASE_MODEl, device_map=DEVICE, \n",
    "                                             load_in_8bit=True, use_safetensors=True)\n",
    "\n",
    "# frozing full base model\n",
    "for param in MODEL.parameters():\n",
    "    param.requires_grad = False\n",
    "\n",
    "# wraps model to ia3\n",
    "IA3_MODEL = get_peft_model(MODEL, CONFIG)\n",
    "\n",
    "for name, param in IA3_MODEL.named_parameters():\n",
    "    print(name, param.requires_grad)\n",
    "\n",
    "# checking trainable parameters\n",
    "def print_trainable_parameters(model):\n",
    "    \"\"\"\n",
    "    Prints the number of trainable parameters in the model.\n",
    "    \"\"\"\n",
    "    trainable_params = 0\n",
    "    all_param = 0\n",
    "    for _, param in model.named_parameters():\n",
    "        all_param += param.numel()\n",
    "        if param.requires_grad:\n",
    "            trainable_params += param.numel()\n",
    "    print(\n",
    "        f\"trainable params: {trainable_params} || all params: {all_param} || trainable%: {100 * trainable_params / all_param}\"\n",
    "    )\n",
    "\n",
    "print_trainable_parameters(IA3_MODEL)"
   ]
  },
  {
   "cell_type": "code",
   "execution_count": null,
   "metadata": {},
   "outputs": [],
   "source": [
    "# prepare dataset"
   ]
  },
  {
   "cell_type": "code",
   "execution_count": null,
   "metadata": {},
   "outputs": [],
   "source": [
    "# loop\n",
    "## train\n",
    "## eval\n",
    "## save best"
   ]
  }
 ],
 "metadata": {
  "kernelspec": {
   "display_name": "base",
   "language": "python",
   "name": "python3"
  },
  "language_info": {
   "codemirror_mode": {
    "name": "ipython",
    "version": 3
   },
   "file_extension": ".py",
   "mimetype": "text/x-python",
   "name": "python",
   "nbconvert_exporter": "python",
   "pygments_lexer": "ipython3",
   "version": "3.11.4"
  },
  "orig_nbformat": 4
 },
 "nbformat": 4,
 "nbformat_minor": 2
}
