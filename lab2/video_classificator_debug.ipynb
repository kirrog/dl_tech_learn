{
 "cells": [
  {
   "cell_type": "code",
   "execution_count": null,
   "metadata": {},
   "outputs": [],
   "source": [
    "import pandas as pd \n",
    "import cv2"
   ]
  },
  {
   "cell_type": "markdown",
   "metadata": {},
   "source": [
    "Краткое описание алгоритма:\n",
    "* получаем путь до видео\n",
    "* извлекаем фреймы\n",
    "* обрезаем последовательность фреймов\n",
    "* классифицируем каждый фрейм\n",
    "* получаем распределение предсказанных меток\n",
    "* выводим результат классификации\n",
    "<br>===<br>\n",
    "* тестируем данный алгоритм на тестовом наборе"
   ]
  },
  {
   "cell_type": "code",
   "execution_count": null,
   "metadata": {},
   "outputs": [],
   "source": [
    "VIDEO_FILE = ''"
   ]
  },
  {
   "cell_type": "code",
   "execution_count": null,
   "metadata": {},
   "outputs": [],
   "source": [
    "LABELS = []\n",
    "ID2LABEL = {}\n",
    "EMBEDDER_PATH = ...\n",
    "EMBEDDER_PROCESSOR_PATH = ...\n",
    "FRAME_CLASSIFIER_PATH = ...\n",
    "\n",
    "def classify_video(video_path):\n",
    "    emb_model, emb_processor, fcls_model = init_models(EMBEDDER_PATH, EMBEDDER_PROCESSOR_PATH, \n",
    "                                                        FRAME_CLASSIFIER_PATH)\n",
    "    \n",
    "    video_object = load_video(video_path)\n",
    "    selected_frame_ids = reduce_video(video_object)\n",
    "    label_freqs = {label: 0 for label in LABELS}\n",
    "    frames_amount = len(selected_frame_ids)\n",
    "\n",
    "    for frame_id in selected_frame_ids:\n",
    "        frame = get_frame_by_id(video_object, frame_id)\n",
    "        frame_emb = get_frame_embedding(frame, emb_model, emb_processor)\n",
    "        pred_label = classify_frame(frame_emb, fcls_model)\n",
    "        label_freqs[pred_label] += 1\n",
    "\n",
    "    label_probs = {k: round(v / frames_amount, 3) for k,v in label_freqs.items()}\n",
    "    frequent_label = sorted(label_probs.items(), key=lambda v: v[1], reverse=True)[0]\n",
    "\n",
    "    return frequent_label[0], label_probs\n",
    "\n",
    "def load_video(video_path):\n",
    "    pass\n",
    "\n",
    "def get_frame_by_id(video_object, frame_id):\n",
    "    pass\n",
    "\n",
    "def get_frame_embedding(frame, emb_model, emb_processor):\n",
    "    pass\n",
    "\n",
    "def classify_frame(video_object, frame_id):\n",
    "    pass\n",
    "\n",
    "def init_models(embedder_model_path, clasifier_model_path):\n",
    "    pass\n",
    "\n",
    "def reduce_video(video_object):\n",
    "    pass"
   ]
  }
 ],
 "metadata": {
  "kernelspec": {
   "display_name": "Python 3",
   "language": "python",
   "name": "python3"
  },
  "language_info": {
   "name": "python",
   "version": "3.10.12"
  },
  "orig_nbformat": 4
 },
 "nbformat": 4,
 "nbformat_minor": 2
}
