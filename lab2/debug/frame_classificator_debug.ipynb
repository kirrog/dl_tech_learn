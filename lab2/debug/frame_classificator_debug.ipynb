{
 "cells": [
  {
   "cell_type": "code",
   "execution_count": 1,
   "metadata": {},
   "outputs": [],
   "source": [
    "from sklearn.model_selection import train_test_split\n",
    "from ast import literal_eval\n",
    "from catboost import CatBoostClassifier, Pool\n",
    "import pandas as pd\n",
    "import json"
   ]
  },
  {
   "cell_type": "code",
   "execution_count": null,
   "metadata": {},
   "outputs": [],
   "source": [
    "DATASET_PATH = './frames_embeddings.csv'\n",
    "OUTPUT_DIR = './'\n",
    "SAVED_MODEL_NAME = 'frame_classifier_model'\n",
    "METRICS_FILE = 'evl_metrics.json'\n",
    "X_COL = 'embeddings'\n",
    "Y_COL = 'labels'"
   ]
  },
  {
   "cell_type": "code",
   "execution_count": null,
   "metadata": {},
   "outputs": [],
   "source": [
    "df = pd.read_csv(DATASET_PATH, sep=';')\n",
    "df[X_COL] = df[X_COL].apply(lambda v: literal_eval(v))\n",
    "\n",
    "LABELS2ID = {label:i for i,label in enumerate(df[Y_COL].unique().tolist())}\n",
    "\n",
    "X, y = df[X_COL].to_list(), list(map(lambda label: LABELS2ID[label], df[Y_COL].to_list()))"
   ]
  },
  {
   "cell_type": "code",
   "execution_count": null,
   "metadata": {},
   "outputs": [],
   "source": [
    "X_train, X_val, y_train, y_val = train_test_split(X, y, test_size=0.2, \n",
    "                                                  random_state=0, stratify=y)\n",
    "\n",
    "print(f\"train: {len(X_train)}, {len(y_train)}\")\n",
    "print(f\"eval: {len(X_val)}, {len(y_val)}\")"
   ]
  },
  {
   "cell_type": "markdown",
   "metadata": {},
   "source": [
    "## CatBoost"
   ]
  },
  {
   "cell_type": "markdown",
   "metadata": {},
   "source": [
    "#### Train"
   ]
  },
  {
   "cell_type": "code",
   "execution_count": null,
   "metadata": {},
   "outputs": [],
   "source": [
    "clf = CatBoostClassifier(\n",
    "    eval_metric='Accuracy',\n",
    "    iterations=200,\n",
    "    learning_rate=0.5,\n",
    "    early_stopping_rounds=20,\n",
    "    random_seed=63,\n",
    "    loss_function='MultiClass',\n",
    "    task_type=\"GPU\",\n",
    "    devices='0:1'\n",
    ")\n",
    "\n",
    "\n",
    "clf.fit(X_train, y_train,\n",
    "        eval_set=(X_val, y_val), \n",
    "        verbose=True)\n",
    "\n",
    "print('CatBoost model is fitted: ' + str(clf.is_fitted()))\n",
    "print('CatBoost model parameters:')\n",
    "print(clf.get_params())"
   ]
  },
  {
   "cell_type": "code",
   "execution_count": 10,
   "metadata": {},
   "outputs": [],
   "source": [
    "clf.save_model(f\"{OUTPUT_DIR}{SAVED_MODEL_NAME}\")"
   ]
  },
  {
   "cell_type": "markdown",
   "metadata": {},
   "source": [
    "#### Eval"
   ]
  },
  {
   "cell_type": "code",
   "execution_count": 11,
   "metadata": {},
   "outputs": [
    {
     "data": {
      "text/plain": [
       "<catboost.core.CatBoostClassifier at 0x7fbba1757cd0>"
      ]
     },
     "execution_count": 11,
     "metadata": {},
     "output_type": "execute_result"
    }
   ],
   "source": [
    "model = CatBoostClassifier()\n",
    "model.load_model(SAVED_MODEL_NAME)"
   ]
  },
  {
   "cell_type": "code",
   "execution_count": 14,
   "metadata": {},
   "outputs": [
    {
     "data": {
      "text/plain": [
       "{'Accuracy': [0.125],\n",
       " 'AUC:type=Mu': [0.4583333333333333],\n",
       " 'F1:class=0': [0.0],\n",
       " 'F1:class=1': [0.0],\n",
       " 'F1:class=2': [0.0],\n",
       " 'F1:class=3': [0.4]}"
      ]
     },
     "execution_count": 14,
     "metadata": {},
     "output_type": "execute_result"
    }
   ],
   "source": [
    "metrics = clf.eval_metrics(data=Pool(X_val, y_val),\n",
    "                 metrics=['Accuracy','AUC', 'F1'])\n",
    "\n",
    "print(metrics)"
   ]
  },
  {
   "cell_type": "code",
   "execution_count": null,
   "metadata": {},
   "outputs": [],
   "source": [
    "json_object = json.dumps(metrics, indent=2, ensure_ascii=False)\n",
    "with open(f\"{OUTPUT_DIR}{METRICS_FILE}\", 'w') as fd:\n",
    "    fd.write(json_object)"
   ]
  }
 ],
 "metadata": {
  "kernelspec": {
   "display_name": "base",
   "language": "python",
   "name": "python3"
  },
  "language_info": {
   "codemirror_mode": {
    "name": "ipython",
    "version": 3
   },
   "file_extension": ".py",
   "mimetype": "text/x-python",
   "name": "python",
   "nbconvert_exporter": "python",
   "pygments_lexer": "ipython3",
   "version": "3.11.4"
  },
  "orig_nbformat": 4
 },
 "nbformat": 4,
 "nbformat_minor": 2
}
