{
 "cells": [
  {
   "cell_type": "code",
   "execution_count": 2,
   "metadata": {},
   "outputs": [],
   "source": [
    "import cv2\n",
    "import os\n",
    "from tqdm import tqdm\n",
    "from collections import Counter\n",
    "import pandas as pd\n",
    "import matplotlib.pyplot as plt\n",
    "import numpy as np"
   ]
  },
  {
   "cell_type": "code",
   "execution_count": 4,
   "metadata": {},
   "outputs": [],
   "source": [
    "RAW_VIDEOS_DIR = '/home/dzigen/Desktop/ITMO/sem1/DLtech/lab2/raw_videos'\n",
    "FIXED_VIDEOS_DIR = '/home/dzigen/Desktop/ITMO/sem1/DLtech/lab2/fixed_videos'\n",
    "FRAMES_DIR = '/home/dzigen/Desktop/ITMO/sem1/DLtech/lab2/frames'\n",
    "VIDEOS_DATASET_PATH = '/home/dzigen/Desktop/ITMO/sem1/DLtech/lab2/videos_dataset.csv'\n",
    "LABEL_NAMES = os.listdir(RAW_VIDEOS_DIR)"
   ]
  },
  {
   "cell_type": "markdown",
   "metadata": {},
   "source": [
    "#### Статистика по собранным видео"
   ]
  },
  {
   "cell_type": "code",
   "execution_count": 34,
   "metadata": {},
   "outputs": [
    {
     "name": "stdout",
     "output_type": "stream",
     "text": [
      "['travel', 'history', 'food', 'art_music']\n",
      "{'kMwMTKh5jfM.mp4', '#NAME?.mp4', 'CUv9lfFaSYI.mp4', '76jpCIZTq2E.mp4'}\n"
     ]
    }
   ],
   "source": [
    "# Удаляем дубликаты из скачанных роликов\n",
    "#\n",
    "#print(LABEL_NAMES)\n",
    "#DOWNLOADED_LINKS = {l_name: list(set(os.listdir(f\"{RAW_VIDEOS_DIR}/{l_name}\"))) for l_name in LABEL_NAMES}\n",
    "\n",
    "#\n",
    "#notunique_links = set()\n",
    "#notunique_links.update(set(DOWNLOADED_LINKS['travel']).intersection(set(DOWNLOADED_LINKS['food'])))\n",
    "#notunique_links.update(set(DOWNLOADED_LINKS['travel']).intersection(set(DOWNLOADED_LINKS['art_music'])))\n",
    "#notunique_links.update(set(DOWNLOADED_LINKS['travel']).intersection(set(DOWNLOADED_LINKS['history'])))\n",
    "#notunique_links.update(set(DOWNLOADED_LINKS['food']).intersection(set(DOWNLOADED_LINKS['art_music'])))\n",
    "#notunique_links.update(set(DOWNLOADED_LINKS['food']).intersection(set(DOWNLOADED_LINKS['history'])))\n",
    "#notunique_links.update(set(DOWNLOADED_LINKS['art_music']).intersection(set(DOWNLOADED_LINKS['history'])))\n",
    "#print(notunique_links)\n",
    "\n",
    "#\n",
    "#for key in DOWNLOADED_LINKS.keys():\n",
    "#    DOWNLOADED_LINKS[key] = list(set(DOWNLOADED_LINKS[key]).difference(notunique_links))"
   ]
  },
  {
   "cell_type": "code",
   "execution_count": 50,
   "metadata": {},
   "outputs": [],
   "source": [
    "video_links_df = pd.read_csv(VIDEOS_DATASET_PATH, sep=';')\n",
    "DOWNLOADED_LINKS = {l_name: video_links_df[video_links_df['category'] == l_name]['links'].to_list() for l_name in LABEL_NAMES}"
   ]
  },
  {
   "cell_type": "code",
   "execution_count": 51,
   "metadata": {},
   "outputs": [],
   "source": [
    "video_framelen = {}\n",
    "for label in DOWNLOADED_LINKS.keys():\n",
    "    video_framelen.setdefault(label, [])\n",
    "    for link in DOWNLOADED_LINKS[label]:\n",
    "        #print(label, link)\n",
    "        v = cv2.VideoCapture(f'{FIXED_VIDEOS_DIR}/{label}/{link}')\n",
    "        frames_amount = int(v.get(cv2.CAP_PROP_FRAME_COUNT))\n",
    "        #print(frames_amount)\n",
    "        #break\n",
    "        video_framelen[label].append(frames_amount)"
   ]
  },
  {
   "cell_type": "code",
   "execution_count": null,
   "metadata": {},
   "outputs": [],
   "source": [
    "print(\"Frames statistics:\\n\")\n",
    "for label in DOWNLOADED_LINKS.keys():\n",
    "    print(f\"{label}:\")\n",
    "    print(\"\\tmean: \", round(np.mean(video_framelen[label]),3))\n",
    "    print(\"\\tmax: \", np.max(video_framelen[label]))\n",
    "    print(\"\\tmin: \", np.min(video_framelen[label]))"
   ]
  },
  {
   "cell_type": "code",
   "execution_count": null,
   "metadata": {},
   "outputs": [],
   "source": [
    "# Фильтруем скаченные ролики и формируем таблицу\n",
    "\n",
    "# Примечание:\n",
    "# * для 'history' длинные ролики - норм;\n",
    "# * для 'art_music' длинные ролики (>30 мин) - не норм (в качестве видеоряда картинка/гифка);\n",
    "# * для 'travel' длинных роликов нет;\n",
    "# * для 'food' длинных роликов нет.\n",
    "VIDEO_DURATION_LIMIT = {'travel': -1, 'history': -1, 'food': -1, 'art_music': 30}\n",
    "\n",
    "data = []\n",
    "for label in DOWNLOADED_LINKS.keys():\n",
    "    for link in DOWNLOADED_LINKS[label]:\n",
    "        v = cv2.VideoCapture(f'{RAW_VIDEOS_DIR}/{label}/{link}')\n",
    "        frames_amount = int(v.get(cv2.CAP_PROP_FRAME_COUNT))\n",
    "        fps = v.get(cv2.CAP_PROP_FPS)\n",
    "\n",
    "        minutes_duration_round = int(frames_amount / fps / 60)\n",
    "        if VIDEO_DURATION_LIMIT[label] != -1 and minutes_duration_round > VIDEO_DURATION_LIMIT[label]:\n",
    "            continue\n",
    "\n",
    "        data.append((link, label))\n",
    "\n",
    "saved_df = pd.DataFrame(data, columns=['links', 'category'])\n",
    "print(Counter(saved_df['category']))\n",
    "saved_df.to_csv(\"videos_dataset.csv\", index=False, sep=';')"
   ]
  },
  {
   "cell_type": "markdown",
   "metadata": {},
   "source": [
    "BEFORE FILTERING\n",
    "\n",
    "Frames statistics:\n",
    "\n",
    "travel:\n",
    "\tmean:  24659.433\n",
    "\tmax:  235975\n",
    "\tmin:  487\n",
    "history:\n",
    "\tmean:  87708.131\n",
    "\tmax:  4280403\n",
    "\tmin:  1622\n",
    "food:\n",
    "\tmean:  25095.721\n",
    "\tmax:  135495\n",
    "\tmin:  861\n",
    "art_music:\n",
    "\tmean:  15075.599\n",
    "\tmax:  68425\n",
    "\tmin:  2410\n",
    "\n",
    "AFTER FILTERING\n",
    "\n",
    "Frames statistics:\n",
    "\n",
    "travel:\n",
    "\tmean:  24659.436\n",
    "\tmax:  235975\n",
    "\tmin:  487\n",
    "history:\n",
    "\tmean:  87389.287\n",
    "\tmax:  4280403\n",
    "\tmin:  0\n",
    "food:\n",
    "\tmean:  24965.158\n",
    "\tmax:  135495\n",
    "\tmin:  0\n",
    "art_music:\n",
    "\tmean:  12942.243\n",
    "\tmax:  55139\n",
    "\tmin:  2410"
   ]
  },
  {
   "cell_type": "markdown",
   "metadata": {},
   "source": [
    "#### Извлечение фреймов из изображений"
   ]
  },
  {
   "cell_type": "code",
   "execution_count": 53,
   "metadata": {},
   "outputs": [],
   "source": [
    "video_links_df = pd.read_csv(VIDEOS_DATASET_PATH, sep=';')"
   ]
  },
  {
   "cell_type": "code",
   "execution_count": 54,
   "metadata": {},
   "outputs": [],
   "source": [
    "OUTPUT_PATH = '/home/dzigen/Desktop/ITMO/sem1/DLtech/lab2/frames'\n",
    "if not os.path.exists(OUTPUT_PATH):\n",
    "\tos.mkdir(OUTPUT_PATH)"
   ]
  },
  {
   "cell_type": "code",
   "execution_count": 64,
   "metadata": {},
   "outputs": [
    {
     "data": {
      "text/plain": [
       "18874"
      ]
     },
     "execution_count": 64,
     "metadata": {},
     "output_type": "execute_result"
    }
   ],
   "source": [
    "len(os.listdir(\"/home/dzigen/Desktop/ITMO/sem1/DLtech/lab2/frames/food\"))"
   ]
  },
  {
   "cell_type": "code",
   "execution_count": 60,
   "metadata": {},
   "outputs": [
    {
     "name": "stderr",
     "output_type": "stream",
     "text": [
      "travel | LdbJ6ancF4Q.mp4 | 15084 frames | True: 100%|██████████| 337/337 [04:54<00:00,  1.14it/s] \n",
      "art_music | lpdRqn6xwiM.mp4 | 4295 frames | True: 100%|██████████| 173/173 [05:13<00:00,  1.81s/it] \n"
     ]
    }
   ],
   "source": [
    "FRAME_INTERVAL = {'travel': 500, 'history': 1000,'food': 500,'art_music': 100}\n",
    "END_OFFSET = 500 \n",
    "START_OFFSET = 200\n",
    "\n",
    "# LABEL_NAMES\n",
    "for name in ['travel', 'art_music']:\n",
    "    video_label_dir = f'{FIXED_VIDEOS_DIR}/{name}'\n",
    "\n",
    "    frame_label_dir = f'{FRAMES_DIR}/{name}'\n",
    "    if not os.path.exists(frame_label_dir):\n",
    "        os.mkdir(frame_label_dir)\n",
    "\n",
    "    label_videos = video_links_df[video_links_df['category'] == name]['links'].to_list()\n",
    "    \n",
    "    #\n",
    "    process = tqdm(label_videos)\n",
    "    for video_file in process:\n",
    "        vidcap = cv2.VideoCapture(f\"{video_label_dir}/{video_file}\")\n",
    "        frames_amount = int(vidcap.get(cv2.CAP_PROP_FRAME_COUNT))\n",
    "\n",
    "        if frames_amount == 0:\n",
    "            print(f\"{name} | {video_file} | {frames_amount} frames \")\n",
    "            continue\n",
    "\n",
    "        #\n",
    "        video_link = video_file.split(\".mp4\")[0]\n",
    "        for frame_id in range(START_OFFSET, frames_amount-END_OFFSET, FRAME_INTERVAL[name]):\n",
    "            vidcap.set(1, frame_id)\n",
    "            ret, frame = vidcap.read()\n",
    "\n",
    "            process.set_description_str(f\"{name} | {video_file} | {frames_amount} frames | {ret}\")\n",
    "\n",
    "            #\n",
    "            frame_file = f\"{video_link}_frame{frame_id}\"\n",
    "            cv2.imwrite(f\"{frame_label_dir}/{frame_file}.png\", frame)"
   ]
  }
 ],
 "metadata": {
  "kernelspec": {
   "display_name": "base",
   "language": "python",
   "name": "python3"
  },
  "language_info": {
   "codemirror_mode": {
    "name": "ipython",
    "version": 3
   },
   "file_extension": ".py",
   "mimetype": "text/x-python",
   "name": "python",
   "nbconvert_exporter": "python",
   "pygments_lexer": "ipython3",
   "version": "3.11.4"
  },
  "orig_nbformat": 4
 },
 "nbformat": 4,
 "nbformat_minor": 2
}
